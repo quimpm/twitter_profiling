{
 "cells": [
  {
   "cell_type": "markdown",
   "id": "e4679536",
   "metadata": {},
   "source": [
    "# Interactive Twitter scrapping"
   ]
  },
  {
   "cell_type": "code",
   "execution_count": 1,
   "id": "5fe73b50",
   "metadata": {},
   "outputs": [],
   "source": [
    "import selenium\n",
    "from time import sleep\n",
    "from selenium.webdriver import Chrome, ChromeOptions\n",
    "from selenium.webdriver.common.keys import Keys\n",
    "from selenium.common.exceptions import NoSuchElementException\n",
    "from webdriver_manager.chrome import ChromeDriverManager\n",
    "from dataclasses import dataclass, asdict"
   ]
  },
  {
   "cell_type": "code",
   "execution_count": 2,
   "id": "e51dc5bb",
   "metadata": {
    "scrolled": true
   },
   "outputs": [
    {
     "name": "stderr",
     "output_type": "stream",
     "text": [
      "[WDM] - Current google-chrome version is 108.0.5359\n",
      "[WDM] - Get LATEST driver version for 108.0.5359\n",
      "[WDM] - Driver [/Users/quimpm/.wdm/drivers/chromedriver/mac64/108.0.5359.71/chromedriver] found in cache\n"
     ]
    },
    {
     "name": "stdout",
     "output_type": "stream",
     "text": [
      " \n"
     ]
    },
    {
     "name": "stderr",
     "output_type": "stream",
     "text": [
      "/var/folders/c5/w6qgwv4j6vbfsds2gklg5q240000gn/T/ipykernel_96920/1369949579.py:5: DeprecationWarning: executable_path has been deprecated, please pass in a Service object\n",
      "  driver = Chrome(ChromeDriverManager().install(), chrome_options = options)\n",
      "/var/folders/c5/w6qgwv4j6vbfsds2gklg5q240000gn/T/ipykernel_96920/1369949579.py:5: DeprecationWarning: use options instead of chrome_options\n",
      "  driver = Chrome(ChromeDriverManager().install(), chrome_options = options)\n"
     ]
    }
   ],
   "source": [
    "options = ChromeOptions()\n",
    "options.add_argument('headless')\n",
    "options.add_argument(\"user-agent=Mozilla/5.0 (Macintosh; Intel Mac OS X 10_15_7) AppleWebKit/537.36 (KHTML, like Gecko) Chrome/108.0.0.0 Safari/537.36\")\n",
    "options.add_argument('window-size=1920x1080')\n",
    "driver = Chrome(ChromeDriverManager().install(), chrome_options = options)"
   ]
  },
  {
   "cell_type": "code",
   "execution_count": 3,
   "id": "887333e5",
   "metadata": {},
   "outputs": [],
   "source": [
    "driver.get(\"https://www.twitter.com/monkeydquim\")"
   ]
  },
  {
   "cell_type": "code",
   "execution_count": 4,
   "id": "000722b9",
   "metadata": {},
   "outputs": [
    {
     "data": {
      "text/plain": [
       "'https://twitter.com/monkeydquim'"
      ]
     },
     "execution_count": 4,
     "metadata": {},
     "output_type": "execute_result"
    }
   ],
   "source": [
    "driver.current_url"
   ]
  },
  {
   "cell_type": "markdown",
   "id": "02713bb1",
   "metadata": {},
   "source": [
    "### Util Funcs and Data Structures"
   ]
  },
  {
   "cell_type": "code",
   "execution_count": 5,
   "id": "f93a3e1c",
   "metadata": {},
   "outputs": [],
   "source": [
    "@dataclass(eq=True)\n",
    "class User():\n",
    "    name: str = None\n",
    "    at: str = None\n",
    "    desc: str = None\n",
    "    profile_img: str = None\n",
    "    banner_img: str = None\n",
    "    geolocation: str = None\n",
    "    join_date: str = None\n",
    "    following: int = None\n",
    "    followers: int = None"
   ]
  },
  {
   "cell_type": "code",
   "execution_count": 6,
   "id": "56d7d21e",
   "metadata": {},
   "outputs": [],
   "source": [
    "@dataclass(eq=True, unsafe_hash=True)\n",
    "class Tweet():\n",
    "    username: str = None\n",
    "    at: str = None\n",
    "    text: str = None\n",
    "    views: int = None\n",
    "    replies: int = None\n",
    "    retweets: int = None\n",
    "    likes: int = None\n",
    "    imgs: (str) = None\n",
    "    video: str = None\n",
    "    link: str = None\n",
    "    time: str = None"
   ]
  },
  {
   "cell_type": "code",
   "execution_count": 7,
   "id": "58d332da",
   "metadata": {},
   "outputs": [],
   "source": [
    "def scrape_wrapper(driver, default, func, args=None):\n",
    "    retries = 3\n",
    "    if args:\n",
    "        list_args = list(args)\n",
    "        list_args.insert(0, driver)\n",
    "        args = tuple(list_args)\n",
    "    else:\n",
    "        args = (driver,)\n",
    "    try:\n",
    "        return func(*args)\n",
    "    except:\n",
    "        try:\n",
    "            sleep(1)\n",
    "            return func(*args)\n",
    "        except:\n",
    "            return default"
   ]
  },
  {
   "cell_type": "markdown",
   "id": "df574502",
   "metadata": {},
   "source": [
    "### Get user profile info"
   ]
  },
  {
   "cell_type": "code",
   "execution_count": 8,
   "id": "becf2847",
   "metadata": {
    "scrolled": true
   },
   "outputs": [],
   "source": [
    "def get_banner_image(driver):\n",
    "    banner_img = driver.find_element('xpath', './/img[@draggable=\"true\"]')\n",
    "    return banner_img.get_attribute(\"src\")\n",
    "\n",
    "def get_username_and_at(driver):\n",
    "    user_name = driver.find_element('xpath', './/div[@data-testid=\"UserName\"]') \n",
    "    return user_name.text.splitlines()\n",
    "\n",
    "def get_description(driver):\n",
    "    user_desc = driver.find_element('xpath', './/div[@data-testid=\"UserDescription\"]') \n",
    "    return user_desc.text\n",
    "\n",
    "def get_location(driver):\n",
    "    user_location = driver.find_element('xpath', './/span[@data-testid=\"UserLocation\"]')\n",
    "    return user_location.text\n",
    "\n",
    "def get_join_date(driver):\n",
    "    user_join_date = driver.find_element('xpath', './/span[@data-testid=\"UserJoinDate\"]')\n",
    "    return user_join_date.text\n",
    "\n",
    "def get_following(driver, at):\n",
    "    user_following = driver.find_element('xpath', './/a[@href=\"/'+at[1:]+'/following\"]')\n",
    "    return int(user_following.text.split()[0])\n",
    "\n",
    "def get_followers(driver, at):\n",
    "    user_followers = driver.find_element('xpath', './/a[@href=\"/'+at[1:]+'/followers\"]')\n",
    "    return int(user_followers.text.split()[0])\n",
    "    \n",
    "def get_user_information(driver):\n",
    "    user = User()\n",
    "    user.name, user.at = scrape_wrapper(driver, '', get_username_and_at)\n",
    "    user.banner_image = scrape_wrapper(driver, '', get_banner_image)\n",
    "    user.profile_img = \"https://www.twitter.com/\" + user.at[1:] + \"/photo\"\n",
    "    user.desc = scrape_wrapper(driver, '', get_description)\n",
    "    user.geolocation = scrape_wrapper(driver, '', get_location)\n",
    "    user.join_date = scrape_wrapper(driver, '', get_join_date)\n",
    "    user.following = scrape_wrapper(driver, 0, get_following, (user.at,))\n",
    "    user.followers = scrape_wrapper(driver, 0, get_followers, (user.at,))\n",
    "    return user\n",
    "    "
   ]
  },
  {
   "cell_type": "code",
   "execution_count": 9,
   "id": "65b9ca8c",
   "metadata": {},
   "outputs": [
    {
     "data": {
      "text/plain": [
       "User(name='Quim*10^-12', at='@monkeydquim', desc='UDL- Computer engineering\\n\\nLearning code...', profile_img='https://www.twitter.com/monkeydquim/photo', banner_img=None, geolocation='Lleida, Catalunya', join_date='Joined September 2017', following=227, followers=71)"
      ]
     },
     "execution_count": 9,
     "metadata": {},
     "output_type": "execute_result"
    }
   ],
   "source": [
    "user = get_user_information(driver)\n",
    "user"
   ]
  },
  {
   "cell_type": "markdown",
   "id": "2524cf54",
   "metadata": {},
   "source": [
    "### Get Tweets"
   ]
  },
  {
   "cell_type": "code",
   "execution_count": 10,
   "id": "6c2bf8bd",
   "metadata": {},
   "outputs": [],
   "source": [
    "#Move to Tweets and replies\n",
    "driver.find_element('xpath', '//a[@href=\"/'+user.at[1:]+'/with_replies\"]').click()\n"
   ]
  },
  {
   "cell_type": "markdown",
   "id": "00466d50",
   "metadata": {},
   "source": [
    "### Tweet parsing"
   ]
  },
  {
   "cell_type": "code",
   "execution_count": 9,
   "id": "0311d2bb",
   "metadata": {},
   "outputs": [],
   "source": [
    "def get_username_and_date(driver, scraped_tweet):\n",
    "    user_name = scraped_tweet.find_element('xpath', './/div[@data-testid=\"User-Names\"]')\n",
    "    values = user_name.text.splitlines()\n",
    "    return values[0], values[1][1:], values[3]\n",
    "\n",
    "def get_text(driver, scraped_tweet):\n",
    "    text = scraped_tweet.find_element('xpath', './/div[@data-testid=\"tweetText\"]')\n",
    "    return text.text\n",
    "\n",
    "def get_visualizations(driver, scraped_tweet):\n",
    "    text = scraped_tweet.find_element('xpath', './/div[@data-testid=\"app-text-transition-container\"]')\n",
    "    return int(text.text)\n",
    "\n",
    "def get_reply(driver, scraped_tweet):\n",
    "    reply = scraped_tweet.find_element('xpath', './/div[@data-testid=\"reply\"]').text\n",
    "    return int(reply) if reply else 0\n",
    "\n",
    "def get_retweet(driver, scraped_tweet):\n",
    "    retweet = scraped_tweet.find_element('xpath', './/div[@data-testid=\"retweet\"]').text\n",
    "    return int(retweet) if retweet else 0\n",
    "    \n",
    "def get_like(driver, scraped_tweet):\n",
    "    like = scraped_tweet.find_element('xpath', './/div[@data-testid=\"like\"]').text\n",
    "    return int(like) if like else 0\n",
    "\n",
    "def get_views(driver, scraped_tweet):\n",
    "    views = scraped_tweet.find_element('xpath', './/div[@role=\"group\"]/div/a').text\n",
    "    return int(views) if views else 0\n",
    "\n",
    "def get_imgs(driver, scraped_tweet):\n",
    "    imgs = scraped_tweet.find_elements('xpath', './/img[@alt=\"Image\"]')\n",
    "    return tuple([img.get_attribute(\"src\") for img in imgs])\n",
    "\n",
    "def get_link(driver, scraped_tweet):\n",
    "    link = scraped_tweet.find_element('xpath', './/div[@data-testid=\"card.wrapper\"]/div/a')\n",
    "    return link.get_attribute(\"href\")\n",
    "\n",
    "def get_video(driver, scraped_tweet):\n",
    "    video = scraped_tweet.find_element('xpath', './/video')\n",
    "    return video.get_attribute(\"src\")[5:]\n",
    "\n",
    "def get_tweet_information(driver, scraped_tweet):\n",
    "    tweet = Tweet()\n",
    "    tweet.username, tweet.at, tweet.time = scrape_wrapper(driver, '', get_username_and_date, (scraped_tweet,))\n",
    "    tweet.text = scrape_wrapper(driver, '', get_text, (scraped_tweet,))\n",
    "    tweet.replies = scrape_wrapper(driver, 0, get_reply, (scraped_tweet,))\n",
    "    tweet.retweets = scrape_wrapper(driver, 0, get_retweet, (scraped_tweet,))\n",
    "    tweet.likes = scrape_wrapper(driver, 0, get_like, (scraped_tweet,))\n",
    "    tweet.views = scrape_wrapper(driver, 0, get_views, (scraped_tweet,))\n",
    "    tweet.imgs = scrape_wrapper(driver, (), get_imgs, (scraped_tweet,))\n",
    "    tweet.link = scrape_wrapper(driver, '', get_link, (scraped_tweet,))\n",
    "    tweet.video = scrape_wrapper(driver, '', get_video, (scraped_tweet,))\n",
    "    return tweet"
   ]
  },
  {
   "cell_type": "code",
   "execution_count": null,
   "id": "becbe7cc",
   "metadata": {
    "scrolled": true
   },
   "outputs": [],
   "source": [
    "tweets = driver.find_elements('xpath', './/article[@data-testid=\"tweet\"]')\n",
    "scraped_tweet = tweets[0]\n",
    "get_tweet_information(driver, scraped_tweet)"
   ]
  },
  {
   "cell_type": "markdown",
   "id": "e818befb",
   "metadata": {},
   "source": [
    "# Scrape profile algorithm"
   ]
  },
  {
   "cell_type": "code",
   "execution_count": null,
   "id": "c289f806",
   "metadata": {},
   "outputs": [
    {
     "name": "stderr",
     "output_type": "stream",
     "text": [
      "[WDM] - Current google-chrome version is 108.0.5359\n",
      "[WDM] - Get LATEST driver version for 108.0.5359\n",
      "[WDM] - Driver [/Users/quimpm/.wdm/drivers/chromedriver/mac64/108.0.5359.71/chromedriver] found in cache\n"
     ]
    },
    {
     "name": "stdout",
     "output_type": "stream",
     "text": [
      " \n"
     ]
    },
    {
     "name": "stderr",
     "output_type": "stream",
     "text": [
      "/var/folders/c5/w6qgwv4j6vbfsds2gklg5q240000gn/T/ipykernel_96920/2418658751.py:6: DeprecationWarning: executable_path has been deprecated, please pass in a Service object\n",
      "  driver = Chrome(ChromeDriverManager().install(), chrome_options = options)\n",
      "/var/folders/c5/w6qgwv4j6vbfsds2gklg5q240000gn/T/ipykernel_96920/2418658751.py:6: DeprecationWarning: use options instead of chrome_options\n",
      "  driver = Chrome(ChromeDriverManager().install(), chrome_options = options)\n"
     ]
    },
    {
     "name": "stdout",
     "output_type": "stream",
     "text": [
      "User(name='Quim*10^-12', at='@monkeydquim', desc='UDL- Computer engineering\\n\\nLearning code...', profile_img='https://www.twitter.com/monkeydquim/photo', banner_img=None, geolocation='Lleida, Catalunya', join_date='Joined September 2017', following=227, followers=71)\n",
      "Tweet Scrapped\n",
      "Tweet Scrapped\n",
      "Tweet Scrapped\n",
      "Tweet Scrapped\n",
      "Tweet Scrapped\n",
      "Tweet Scrapped\n",
      "Tweet Scrapped\n",
      "Tweet Scrapped\n",
      "Tweet Scrapped\n",
      "Tweet Scrapped\n",
      "Tweet Scrapped\n",
      "Tweet Scrapped\n",
      "Tweet Scrapped\n",
      "Tweet Scrapped\n",
      "Tweet Scrapped\n",
      "Tweet Scrapped\n",
      "Tweet Scrapped\n",
      "Tweet Scrapped\n",
      "Tweet Scrapped\n",
      "Tweet Scrapped\n",
      "Tweet Scrapped\n",
      "Tweet Scrapped\n",
      "Tweet Scrapped\n",
      "Tweet Scrapped\n",
      "Tweet Scrapped\n",
      "Tweet Scrapped\n",
      "Tweet Scrapped\n",
      "Tweet Scrapped\n",
      "Tweet Scrapped\n",
      "Tweet Scrapped\n",
      "Tweet Scrapped\n",
      "Tweet Scrapped\n",
      "Tweet Scrapped\n",
      "Tweet Scrapped\n",
      "Tweet Scrapped\n",
      "Tweet Scrapped\n",
      "Tweet Scrapped\n",
      "Tweet Scrapped\n",
      "Tweet Scrapped\n",
      "Tweet Scrapped\n",
      "Tweet Scrapped\n",
      "Failed to scrap one tweet\n",
      "Tweet Scrapped\n",
      "Tweet Scrapped\n",
      "Failed to scrap one tweet\n",
      "Failed to scrap one tweet\n",
      "Tweet Scrapped\n",
      "Tweet Scrapped\n",
      "Failed to scrap one tweet\n",
      "Failed to scrap one tweet\n",
      "Tweet Scrapped\n",
      "Tweet Scrapped\n",
      "Failed to scrap one tweet\n",
      "Failed to scrap one tweet\n",
      "Tweet Scrapped\n",
      "Tweet Scrapped\n",
      "Failed to scrap one tweet\n",
      "Tweet Scrapped\n",
      "Tweet Scrapped\n",
      "Tweet Scrapped\n",
      "Failed to scrap one tweet\n",
      "Failed to scrap one tweet\n",
      "Failed to scrap one tweet\n",
      "Tweet Scrapped\n",
      "Failed to scrap one tweet\n",
      "Failed to scrap one tweet\n",
      "Tweet Scrapped\n",
      "Tweet Scrapped\n",
      "Failed to scrap one tweet\n",
      "Tweet Scrapped\n",
      "Tweet Scrapped\n",
      "Tweet Scrapped\n",
      "Failed to scrap one tweet\n",
      "Failed to scrap one tweet\n",
      "Tweet Scrapped\n",
      "Tweet Scrapped\n",
      "Failed to scrap one tweet\n",
      "Failed to scrap one tweet\n",
      "Failed to scrap one tweet\n",
      "Failed to scrap one tweet\n",
      "Failed to scrap one tweet\n",
      "Failed to scrap one tweet\n",
      "Failed to scrap one tweet\n",
      "Tweet Scrapped\n",
      "Failed to scrap one tweet\n",
      "Failed to scrap one tweet\n",
      "Tweet Scrapped\n",
      "Tweet Scrapped\n",
      "Failed to scrap one tweet\n",
      "Tweet Scrapped\n",
      "Tweet Scrapped\n",
      "Tweet Scrapped\n",
      "Failed to scrap one tweet\n",
      "Failed to scrap one tweet\n",
      "Tweet Scrapped\n",
      "Tweet Scrapped\n",
      "Failed to scrap one tweet\n",
      "Tweet Scrapped\n",
      "Tweet Scrapped\n",
      "Tweet Scrapped\n",
      "Failed to scrap one tweet\n",
      "Failed to scrap one tweet\n",
      "Failed to scrap one tweet\n",
      "Failed to scrap one tweet\n",
      "Tweet Scrapped\n",
      "Failed to scrap one tweet\n",
      "Failed to scrap one tweet\n",
      "Failed to scrap one tweet\n",
      "Tweet Scrapped\n",
      "Failed to scrap one tweet\n",
      "Failed to scrap one tweet\n",
      "Failed to scrap one tweet\n",
      "Failed to scrap one tweet\n",
      "Failed to scrap one tweet\n",
      "Failed to scrap one tweet\n",
      "Failed to scrap one tweet\n",
      "Failed to scrap one tweet\n",
      "Tweet Scrapped\n",
      "Tweet Scrapped\n",
      "Failed to scrap one tweet\n",
      "Failed to scrap one tweet\n",
      "Failed to scrap one tweet\n",
      "Failed to scrap one tweet\n",
      "Tweet Scrapped\n",
      "Failed to scrap one tweet\n",
      "Tweet Scrapped\n",
      "Tweet Scrapped\n",
      "Tweet Scrapped\n",
      "Failed to scrap one tweet\n",
      "Failed to scrap one tweet\n",
      "Failed to scrap one tweet\n",
      "Failed to scrap one tweet\n",
      "Failed to scrap one tweet\n",
      "Failed to scrap one tweet\n",
      "Failed to scrap one tweet\n",
      "Failed to scrap one tweet\n",
      "Failed to scrap one tweet\n",
      "Tweet Scrapped\n",
      "Failed to scrap one tweet\n",
      "Failed to scrap one tweet\n",
      "Failed to scrap one tweet\n",
      "Failed to scrap one tweet\n",
      "Tweet Scrapped\n",
      "Failed to scrap one tweet\n",
      "Failed to scrap one tweet\n",
      "Failed to scrap one tweet\n",
      "Tweet Scrapped\n",
      "Failed to scrap one tweet\n",
      "Failed to scrap one tweet\n",
      "Failed to scrap one tweet\n",
      "Failed to scrap one tweet\n",
      "Failed to scrap one tweet\n",
      "Failed to scrap one tweet\n",
      "Failed to scrap one tweet\n",
      "Failed to scrap one tweet\n",
      "Failed to scrap one tweet\n",
      "Failed to scrap one tweet\n",
      "Failed to scrap one tweet\n",
      "Failed to scrap one tweet\n",
      "Tweet Scrapped\n"
     ]
    }
   ],
   "source": [
    "def scrape_profile(profile):\n",
    "    options = ChromeOptions()\n",
    "    options.add_argument('headless')\n",
    "    options.add_argument('window-size=1920x1080')\n",
    "    options.add_argument(\"user-agent=Mozilla/5.0 (Macintosh; Intel Mac OS X 10_15_7) AppleWebKit/537.36 (KHTML, like Gecko) Chrome/108.0.0.0 Safari/537.36\")\n",
    "    driver = Chrome(ChromeDriverManager().install(), chrome_options = options)\n",
    "    driver.get(\"https://www.twitter.com/\"+profile)\n",
    "    sleep(15)\n",
    "    driver.find_element('xpath', './/a[@href=\"/'+profile+'/with_replies\"]').click()\n",
    "    user_info = get_user_information(driver)\n",
    "    print(user_info)\n",
    "    tweets_info={}\n",
    "    scrolling = True\n",
    "    last_position = driver.execute_script(\"return window.pageYOffset;\")\n",
    "    while scrolling:\n",
    "        tweets = driver.find_elements('xpath', './/article[@data-testid=\"tweet\"]')\n",
    "        for tweet in tweets:\n",
    "            try:\n",
    "                scraped_tweet = get_tweet_information(driver, tweet)\n",
    "                print(\"Tweet Scrapped\")\n",
    "            except:\n",
    "                print(\"Failed to scrap one tweet\")\n",
    "            if not tweets_info.get(scraped_tweet.__hash__()):\n",
    "                tweets_info[scraped_tweet.__hash__()] = scraped_tweet\n",
    "        while True:\n",
    "            scroll_attempt = 0\n",
    "            driver.execute_script('window.scrollTo(0, document.body.scrollHeight);')\n",
    "            curr_position = driver.execute_script(\"return window.pageYOffset;\")\n",
    "            if last_position == curr_position:\n",
    "                scroll_attempt += 1\n",
    "                if scroll_attempt >= 3:\n",
    "                    scrolling = False\n",
    "                    break\n",
    "                else:\n",
    "                    sleep(2)\n",
    "            else:\n",
    "                last_position = curr_position\n",
    "                break\n",
    "    return user_info, tweets_info.values()\n",
    "    \n",
    "scrape_profile(\"monkeydquim\")                \n",
    "            \n",
    "            "
   ]
  },
  {
   "cell_type": "code",
   "execution_count": null,
   "id": "12b737c2",
   "metadata": {},
   "outputs": [],
   "source": []
  }
 ],
 "metadata": {
  "kernelspec": {
   "display_name": "Python 3 (ipykernel)",
   "language": "python",
   "name": "python3"
  },
  "language_info": {
   "codemirror_mode": {
    "name": "ipython",
    "version": 3
   },
   "file_extension": ".py",
   "mimetype": "text/x-python",
   "name": "python",
   "nbconvert_exporter": "python",
   "pygments_lexer": "ipython3",
   "version": "3.9.6"
  }
 },
 "nbformat": 4,
 "nbformat_minor": 5
}
