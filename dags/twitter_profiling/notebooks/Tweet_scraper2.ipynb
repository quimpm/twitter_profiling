{
 "cells": [
  {
   "cell_type": "code",
   "execution_count": null,
   "outputs": [],
   "source": [
    "from snscrape.modules.twitter import TwitterUserScraper, TwitterProfileScraper"
   ],
   "metadata": {
    "collapsed": false,
    "pycharm": {
     "name": "#%%\n"
    }
   }
  },
  {
   "cell_type": "code",
   "execution_count": null,
   "outputs": [],
   "source": [
    "user = TwitterUserScraper(\"EvilAFM\")\n",
    "items = user.get_items()\n",
    "next(items)"
   ],
   "metadata": {
    "collapsed": false,
    "pycharm": {
     "name": "#%%\n"
    }
   }
  },
  {
   "cell_type": "code",
   "execution_count": null,
   "outputs": [],
   "source": [
    "next(items)"
   ],
   "metadata": {
    "collapsed": false,
    "pycharm": {
     "name": "#%%\n"
    }
   }
  },
  {
   "cell_type": "code",
   "execution_count": null,
   "outputs": [],
   "source": [
    "profile = TwitterProfileScraper(\"EvilAFM\")\n",
    "profile = profile.get_items()\n",
    "next(profile)"
   ],
   "metadata": {
    "collapsed": false,
    "pycharm": {
     "name": "#%%\n"
    }
   }
  },
  {
   "cell_type": "code",
   "execution_count": 4,
   "metadata": {},
   "outputs": [
    {
     "data": {
      "text/plain": [
       "Tweet(url='https://twitter.com/EvilAFM/status/1614666055451820032', date=datetime.datetime(2023, 1, 15, 16, 49, 21, tzinfo=datetime.timezone.utc), rawContent='Para mañana he elegido Top Gun Maverick que quiero ver a Antonio Crucero dándolo todo. \\n\\nA las 19 en el canal de @PrimeVideoES \\n\\nhttps://t.co/Krt1BR9LYN\\n\\n#ad https://t.co/Ebo4ikjzDA', renderedContent='Para mañana he elegido Top Gun Maverick que quiero ver a Antonio Crucero dándolo todo. \\n\\nA las 19 en el canal de @PrimeVideoES \\n\\nTwitch.tv/primevideoes\\n\\n#ad https://t.co/Ebo4ikjzDA', id=1614666055451820032, user=User(username='EvilAFM', id=61879392, displayname='Alexelcapo', rawDescription='Vida antes que muerte, fuerza antes que debilidad, viaje antes que destino. Business: alexelcapo@l3tcraft-agency.com', renderedDescription='Vida antes que muerte, fuerza antes que debilidad, viaje antes que destino. Business: alexelcapo@l3tcraft-agency.com', descriptionLinks=None, verified=True, created=datetime.datetime(2009, 7, 31, 21, 27, 58, tzinfo=datetime.timezone.utc), followersCount=1002427, friendsCount=314, statusesCount=105164, favouritesCount=4825, listedCount=1444, mediaCount=17023, location='Palma de Mallorca', protected=False, link=TextLink(text='twitch.tv/alexelcapo', url='http://twitch.tv/alexelcapo', tcourl='https://t.co/AUqpqKukN1', indices=(0, 23)), profileImageUrl='https://pbs.twimg.com/profile_images/1588616660134625280/m38OP5Z-_normal.jpg', profileBannerUrl='https://pbs.twimg.com/profile_banners/61879392/1652904721', label=None), replyCount=38, retweetCount=26, likeCount=815, quoteCount=7, conversationId=1614666055451820032, lang='es', source='<a href=\"http://twitter.com/download/android\" rel=\"nofollow\">Twitter for Android</a>', sourceUrl='http://twitter.com/download/android', sourceLabel='Twitter for Android', links=[TextLink(text='Twitch.tv/primevideoes', url='http://Twitch.tv/primevideoes', tcourl='https://t.co/Krt1BR9LYN', indices=(129, 152))], media=[Photo(previewUrl='https://pbs.twimg.com/media/FmhyN6PX0AE7ioU?format=jpg&name=small', fullUrl='https://pbs.twimg.com/media/FmhyN6PX0AE7ioU?format=jpg&name=large', altText=None)], retweetedTweet=None, quotedTweet=None, inReplyToTweetId=None, inReplyToUser=None, mentionedUsers=[User(username='PrimeVideoES', id=819874788537761792, displayname='Prime Video España', rawDescription=None, renderedDescription=None, descriptionLinks=None, verified=None, created=None, followersCount=None, friendsCount=None, statusesCount=None, favouritesCount=None, listedCount=None, mediaCount=None, location=None, protected=None, link=None, profileImageUrl=None, profileBannerUrl=None, label=None)], coordinates=None, place=None, hashtags=['ad'], cashtags=None, card=None, viewCount=75720, vibe=None)"
      ]
     },
     "execution_count": 4,
     "metadata": {},
     "output_type": "execute_result"
    }
   ],
   "source": [
    "user = TwitterUserScraper(\"EvilAFM\")\n",
    "items = user.get_items()\n",
    "next(items)"
   ]
  },
  {
   "cell_type": "code",
   "execution_count": 5,
   "metadata": {
    "scrolled": true
   },
   "outputs": [
    {
     "data": {
      "text/plain": [
       "Tweet(url='https://twitter.com/EvilAFM/status/1613817252817653764', date=datetime.datetime(2023, 1, 13, 8, 36, 31, tzinfo=datetime.timezone.utc), rawContent='@Felipez360 A mí me dicen lo mismo. No es gracioso? Antes eramos gordos. Ahora pues exgordos supongo.', renderedContent='@Felipez360 A mí me dicen lo mismo. No es gracioso? Antes eramos gordos. Ahora pues exgordos supongo.', id=1613817252817653764, user=User(username='EvilAFM', id=61879392, displayname='Alexelcapo', rawDescription='Vida antes que muerte, fuerza antes que debilidad, viaje antes que destino. Business: alexelcapo@l3tcraft-agency.com', renderedDescription='Vida antes que muerte, fuerza antes que debilidad, viaje antes que destino. Business: alexelcapo@l3tcraft-agency.com', descriptionLinks=None, verified=True, created=datetime.datetime(2009, 7, 31, 21, 27, 58, tzinfo=datetime.timezone.utc), followersCount=1002427, friendsCount=314, statusesCount=105164, favouritesCount=4825, listedCount=1444, mediaCount=17023, location='Palma de Mallorca', protected=False, link=TextLink(text='twitch.tv/alexelcapo', url='http://twitch.tv/alexelcapo', tcourl='https://t.co/AUqpqKukN1', indices=(0, 23)), profileImageUrl='https://pbs.twimg.com/profile_images/1588616660134625280/m38OP5Z-_normal.jpg', profileBannerUrl='https://pbs.twimg.com/profile_banners/61879392/1652904721', label=None), replyCount=51, retweetCount=37, likeCount=2451, quoteCount=1, conversationId=1613803580615442432, lang='es', source='<a href=\"http://twitter.com/download/android\" rel=\"nofollow\">Twitter for Android</a>', sourceUrl='http://twitter.com/download/android', sourceLabel='Twitter for Android', links=None, media=None, retweetedTweet=None, quotedTweet=None, inReplyToTweetId=1613803580615442432, inReplyToUser=User(username='Felipez360', id=398920166, displayname='Felipe Zeta Girocompleto', rawDescription=None, renderedDescription=None, descriptionLinks=None, verified=None, created=None, followersCount=None, friendsCount=None, statusesCount=None, favouritesCount=None, listedCount=None, mediaCount=None, location=None, protected=None, link=None, profileImageUrl=None, profileBannerUrl=None, label=None), mentionedUsers=[User(username='Felipez360', id=398920166, displayname='Felipe Zeta Girocompleto', rawDescription=None, renderedDescription=None, descriptionLinks=None, verified=None, created=None, followersCount=None, friendsCount=None, statusesCount=None, favouritesCount=None, listedCount=None, mediaCount=None, location=None, protected=None, link=None, profileImageUrl=None, profileBannerUrl=None, label=None)], coordinates=None, place=None, hashtags=None, cashtags=None, card=None, viewCount=171917, vibe=None)"
      ]
     },
     "execution_count": 5,
     "metadata": {},
     "output_type": "execute_result"
    }
   ],
   "source": [
    "next(items)"
   ]
  },
  {
   "cell_type": "code",
   "execution_count": 12,
   "metadata": {},
   "outputs": [
    {
     "data": {
      "text/plain": [
       "Tweet(url='https://twitter.com/EvilAFM/status/1614666055451820032', date=datetime.datetime(2023, 1, 15, 16, 49, 21, tzinfo=datetime.timezone.utc), rawContent='Para mañana he elegido Top Gun Maverick que quiero ver a Antonio Crucero dándolo todo. \\n\\nA las 19 en el canal de @PrimeVideoES \\n\\nhttps://t.co/Krt1BR9LYN\\n\\n#ad https://t.co/Ebo4ikjzDA', renderedContent='Para mañana he elegido Top Gun Maverick que quiero ver a Antonio Crucero dándolo todo. \\n\\nA las 19 en el canal de @PrimeVideoES \\n\\nTwitch.tv/primevideoes\\n\\n#ad https://t.co/Ebo4ikjzDA', id=1614666055451820032, user=User(username='EvilAFM', id=61879392, displayname='Alexelcapo', rawDescription='Vida antes que muerte, fuerza antes que debilidad, viaje antes que destino. Business: alexelcapo@l3tcraft-agency.com', renderedDescription='Vida antes que muerte, fuerza antes que debilidad, viaje antes que destino. Business: alexelcapo@l3tcraft-agency.com', descriptionLinks=None, verified=True, created=datetime.datetime(2009, 7, 31, 21, 27, 58, tzinfo=datetime.timezone.utc), followersCount=1002427, friendsCount=314, statusesCount=105164, favouritesCount=4825, listedCount=1444, mediaCount=17023, location='Palma de Mallorca', protected=False, link=TextLink(text='twitch.tv/alexelcapo', url='http://twitch.tv/alexelcapo', tcourl='https://t.co/AUqpqKukN1', indices=(0, 23)), profileImageUrl='https://pbs.twimg.com/profile_images/1588616660134625280/m38OP5Z-_normal.jpg', profileBannerUrl='https://pbs.twimg.com/profile_banners/61879392/1652904721', label=None), replyCount=38, retweetCount=26, likeCount=828, quoteCount=7, conversationId=1614666055451820032, lang='es', source=None, sourceUrl=None, sourceLabel=None, links=[TextLink(text='Twitch.tv/primevideoes', url='http://Twitch.tv/primevideoes', tcourl='https://t.co/Krt1BR9LYN', indices=(129, 152))], media=[Photo(previewUrl='https://pbs.twimg.com/media/FmhyN6PX0AE7ioU?format=jpg&name=small', fullUrl='https://pbs.twimg.com/media/FmhyN6PX0AE7ioU?format=jpg&name=large', altText=None)], retweetedTweet=None, quotedTweet=None, inReplyToTweetId=None, inReplyToUser=None, mentionedUsers=[User(username='PrimeVideoES', id=819874788537761792, displayname='Prime Video España', rawDescription=None, renderedDescription=None, descriptionLinks=None, verified=None, created=None, followersCount=None, friendsCount=None, statusesCount=None, favouritesCount=None, listedCount=None, mediaCount=None, location=None, protected=None, link=None, profileImageUrl=None, profileBannerUrl=None, label=None)], coordinates=None, place=None, hashtags=['ad'], cashtags=None, card=None, viewCount=76802, vibe=None)"
      ]
     },
     "execution_count": 12,
     "metadata": {},
     "output_type": "execute_result"
    }
   ],
   "source": [
    "profile = TwitterProfileScraper(\"EvilAFM\")\n",
    "profile = profile.get_items()\n",
    "next(profile)"
   ]
  }
 ],
 "metadata": {
  "kernelspec": {
   "display_name": "Python 3 (ipykernel)",
   "language": "python",
   "name": "python3"
  },
  "language_info": {
   "codemirror_mode": {
    "name": "ipython",
    "version": 3
   },
   "file_extension": ".py",
   "mimetype": "text/x-python",
   "name": "python",
   "nbconvert_exporter": "python",
   "pygments_lexer": "ipython3",
   "version": "3.10.9"
  }
 },
 "nbformat": 4,
 "nbformat_minor": 1
}