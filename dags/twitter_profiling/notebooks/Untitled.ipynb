{
 "cells": [
  {
   "cell_type": "code",
   "execution_count": 6,
   "id": "62c3bdda",
   "metadata": {},
   "outputs": [],
   "source": [
    "from sklearn.feature_extraction.text import TfidfVectorizer\n",
    "import numpy as np\n",
    "\n",
    "t = \"\"\"Two Travellers, walking in the noonday sun, sought the shade of a widespreading tree to rest. As they lay looking up among the pleasant leaves, they saw that it was a Plane Tree.\n",
    "\n",
    "\"How useless is the Plane!\" said one of them. \"It bears no fruit whatever, and only serves to litter the ground with leaves.\"\n",
    "\n",
    "\"Ungrateful creatures!\" said a voice from the Plane Tree. \"You lie here in my cooling shade, and yet you say I am useless! Thus ungratefully, O Jupiter, do men receive their blessings!\"\n",
    "\n",
    "Our best blessings are often the least appreciated.\"\"\"\n",
    "tfidf = TfidfVectorizer(stop_words=\"english\")\n",
    "tfs = tfidf.fit_transform(t.split(\" \"))\n",
    "feature_names = tfidf.get_feature_names_out()"
   ]
  },
  {
   "cell_type": "code",
   "execution_count": 4,
   "id": "5b70fee8",
   "metadata": {},
   "outputs": [
    {
     "data": {
      "text/plain": [
       "array(['appreciated', 'bears', 'best', 'blessings', 'cooling',\n",
       "       'creatures', 'fruit', 'ground', 'jupiter', 'lay', 'leaves', 'lie',\n",
       "       'litter', 'looking', 'men', 'noonday', 'plane', 'pleasant',\n",
       "       'receive', 'rest', 'said', 'saw', 'say', 'serves', 'shade',\n",
       "       'sought', 'sun', 'travellers', 'tree', 'ungrateful',\n",
       "       'ungratefully', 'useless', 'voice', 'walking', 'widespreading'],\n",
       "      dtype=object)"
      ]
     },
     "execution_count": 4,
     "metadata": {},
     "output_type": "execute_result"
    }
   ],
   "source": [
    "feature_names"
   ]
  },
  {
   "cell_type": "code",
   "execution_count": 9,
   "id": "373fa45f",
   "metadata": {},
   "outputs": [],
   "source": [
    "feature_array = np.array(tfidf.get_feature_names_out())"
   ]
  },
  {
   "cell_type": "code",
   "execution_count": 10,
   "id": "e6719c6a",
   "metadata": {
    "scrolled": true
   },
   "outputs": [
    {
     "data": {
      "text/plain": [
       "array(['appreciated', 'bears', 'best', 'blessings', 'cooling',\n",
       "       'creatures', 'fruit', 'ground', 'jupiter', 'lay', 'leaves', 'lie',\n",
       "       'litter', 'looking', 'men', 'noonday', 'plane', 'pleasant',\n",
       "       'receive', 'rest', 'said', 'saw', 'say', 'serves', 'shade',\n",
       "       'sought', 'sun', 'travellers', 'tree', 'ungrateful',\n",
       "       'ungratefully', 'useless', 'voice', 'walking', 'widespreading'],\n",
       "      dtype=object)"
      ]
     },
     "execution_count": 10,
     "metadata": {},
     "output_type": "execute_result"
    }
   ],
   "source": [
    "feature_array"
   ]
  },
  {
   "cell_type": "code",
   "execution_count": 16,
   "id": "c0ab915b",
   "metadata": {},
   "outputs": [
    {
     "data": {
      "text/plain": [
       "array([[0., 0., 0., ..., 0., 0., 0.],\n",
       "       [0., 0., 0., ..., 0., 0., 0.],\n",
       "       [0., 0., 0., ..., 0., 1., 0.],\n",
       "       ...,\n",
       "       [0., 0., 0., ..., 0., 0., 0.],\n",
       "       [0., 0., 0., ..., 0., 0., 0.],\n",
       "       [1., 0., 0., ..., 0., 0., 0.]])"
      ]
     },
     "execution_count": 16,
     "metadata": {},
     "output_type": "execute_result"
    }
   ],
   "source": [
    "tfs.toarray()"
   ]
  },
  {
   "cell_type": "code",
   "execution_count": 11,
   "id": "998ad0c8",
   "metadata": {},
   "outputs": [],
   "source": [
    "tfidf_sorting = np.argsort(tfs.toarray()).flatten()[::-1]"
   ]
  },
  {
   "cell_type": "code",
   "execution_count": 12,
   "id": "c89d01ed",
   "metadata": {},
   "outputs": [
    {
     "data": {
      "text/plain": [
       "array([ 0,  8, 14, ..., 20, 19,  0])"
      ]
     },
     "execution_count": 12,
     "metadata": {},
     "output_type": "execute_result"
    }
   ],
   "source": [
    "tfidf_sorting"
   ]
  },
  {
   "cell_type": "code",
   "execution_count": 14,
   "id": "f66cd3af",
   "metadata": {},
   "outputs": [],
   "source": [
    "top_n = feature_array[tfidf_sorting][:5]"
   ]
  },
  {
   "cell_type": "code",
   "execution_count": 15,
   "id": "225c5f71",
   "metadata": {},
   "outputs": [
    {
     "data": {
      "text/plain": [
       "array(['appreciated', 'jupiter', 'men', 'looking', 'litter'], dtype=object)"
      ]
     },
     "execution_count": 15,
     "metadata": {},
     "output_type": "execute_result"
    }
   ],
   "source": [
    "top_n"
   ]
  }
 ],
 "metadata": {
  "kernelspec": {
   "display_name": "Python 3 (ipykernel)",
   "language": "python",
   "name": "python3"
  },
  "language_info": {
   "codemirror_mode": {
    "name": "ipython",
    "version": 3
   },
   "file_extension": ".py",
   "mimetype": "text/x-python",
   "name": "python",
   "nbconvert_exporter": "python",
   "pygments_lexer": "ipython3",
   "version": "3.10.9"
  }
 },
 "nbformat": 4,
 "nbformat_minor": 5
}
