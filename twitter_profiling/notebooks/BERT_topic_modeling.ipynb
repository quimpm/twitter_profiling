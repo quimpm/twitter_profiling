{
 "cells": [
  {
   "cell_type": "code",
   "execution_count": 72,
   "id": "821a30bd",
   "metadata": {},
   "outputs": [],
   "source": [
    "from sqlalchemy import create_engine\n",
    "from sqlalchemy.orm import sessionmaker, declarative_base\n",
    "from easynmt import EasyNMT\n",
    "from transformers import BertModel, BertTokenizer\n",
    "import torch\n",
    "import umap\n",
    "import pandas as pd\n",
    "from sklearn.cluster import DBSCAN\n",
    "from sklearn.neighbors import NearestNeighbors\n",
    "import numpy as np\n",
    "import matplotlib.pyplot as plt\n",
    "from transformers import AutoModel, AutoTokenizer\n",
    "import yake"
   ]
  },
  {
   "cell_type": "markdown",
   "id": "52981a3c",
   "metadata": {},
   "source": [
    "DB Connection"
   ]
  },
  {
   "cell_type": "code",
   "execution_count": 2,
   "id": "a2aa0d82",
   "metadata": {},
   "outputs": [],
   "source": [
    "engine = create_engine('sqlite:////Users/quimpm/uni/twitter_profiling/twitter_profiling.db')\n",
    "Session = sessionmaker(bind=engine)\n",
    "session = Session()\n",
    "Base = declarative_base()"
   ]
  },
  {
   "cell_type": "code",
   "execution_count": 3,
   "id": "83f60bba",
   "metadata": {
    "scrolled": true
   },
   "outputs": [],
   "source": [
    "from sqlalchemy import Column, Integer, String\n",
    "\n",
    "\n",
    "class Tweet(Base):\n",
    "    __tablename__ = 'tweet'\n",
    "\n",
    "    id = Column(Integer, primary_key=True)\n",
    "    user_id = Column(Integer)\n",
    "    exec_id = Column(String)\n",
    "    username = Column(String)\n",
    "    at = Column(String)\n",
    "    text = Column(String)\n",
    "    views = Column(Integer)\n",
    "    replies = Column(Integer)\n",
    "    retweets = Column(Integer)\n",
    "    likes = Column(Integer)\n",
    "    imgs = Column(String)\n",
    "    video = Column(String)\n",
    "    link = Column(String)\n",
    "    time = Column(String)\n",
    "\n",
    "    def __init__(self, exec_id, user_id, username, at, text, views, replies, retweets, likes, imgs, video, link, time):\n",
    "        self.exec_id = exec_id\n",
    "        self.user_id = user_id\n",
    "        self.username = username\n",
    "        self.at = at\n",
    "        self.text = text.replace(\"\\n\", \" \").replace(\",\", \" \").replace(\"  \", \" \")\n",
    "        self.views = views\n",
    "        self.replies = replies\n",
    "        self.retweets = retweets\n",
    "        self.likes = likes\n",
    "        self.imgs = \"|\".join(imgs)\n",
    "        self.video = video\n",
    "        self.link = link\n",
    "        self.time = time\n",
    "\n",
    "    def __hash__(self):\n",
    "        return hash(f'{self.exec_id}{self.username}{self.at}{self.text}{str(self.views)}{str(self.replies)}{str(self.retweets)}{str(self.likes)}{self.imgs}{self.video}{self.link}{self.time}')"
   ]
  },
  {
   "cell_type": "code",
   "execution_count": 4,
   "id": "766742c3",
   "metadata": {},
   "outputs": [],
   "source": [
    "class Document(Base):\n",
    "    __tablename__ = 'document'\n",
    "\n",
    "    id = Column(Integer, primary_key=True)\n",
    "    exec_id = Column(String)\n",
    "    corpus_id = Column(Integer)\n",
    "    text = Column(String)\n",
    "\n",
    "    def __init__(self, exec_id, corpus_id, text):\n",
    "        self.exec_id = exec_id\n",
    "        self.corpus_id = corpus_id\n",
    "        self.text = text"
   ]
  },
  {
   "cell_type": "code",
   "execution_count": 5,
   "id": "9de0b9e3",
   "metadata": {},
   "outputs": [],
   "source": [
    "def translate_text(text):\n",
    "    model = EasyNMT('opus-mt')\n",
    "    try:\n",
    "        return model.translate(text, target_lang=\"en\")\n",
    "    except:\n",
    "        return text"
   ]
  },
  {
   "cell_type": "code",
   "execution_count": 39,
   "id": "9e5eb322",
   "metadata": {
    "scrolled": true
   },
   "outputs": [
    {
     "name": "stderr",
     "output_type": "stream",
     "text": [
      "Exception: Helsinki-NLP/opus-mt-ms-en is not a local folder and is not a valid model identifier listed on 'https://huggingface.co/models'\n",
      "If this is a private repository, make sure to pass a token having permission to this repo with `use_auth_token` or log in with `huggingface-cli login` and pass `use_auth_token=True`.\n",
      "Exception: Helsinki-NLP/opus-mt-sl-en is not a local folder and is not a valid model identifier listed on 'https://huggingface.co/models'\n",
      "If this is a private repository, make sure to pass a token having permission to this repo with `use_auth_token` or log in with `huggingface-cli login` and pass `use_auth_token=True`.\n",
      "/opt/homebrew/lib/python3.10/site-packages/transformers/models/marian/tokenization_marian.py:194: UserWarning: Recommended: pip install sacremoses.\n",
      "  warnings.warn(\"Recommended: pip install sacremoses.\")\n",
      "/opt/homebrew/lib/python3.10/site-packages/transformers/generation/utils.py:1387: UserWarning: Neither `max_length` nor `max_new_tokens` has been set, `max_length` will default to 512 (`self.config.max_length`). Controlling `max_length` via the config is deprecated and `max_length` will be removed from the config in v5 of Transformers -- we recommend using `max_new_tokens` to control the maximum length of the generation.\n",
      "  warnings.warn(\n"
     ]
    },
    {
     "data": {
      "text/plain": [
       "['Ah sushi!',\n",
       " 'Talking to a big group today. Professionalism Architecture Agile and Clean Code. It’s going to be a blast! I love being on stage. It’s a personality defect.',\n",
       " 'The NOTAM corruption nearly caused me to scrub a client visit. But I managed by minutes to sneak onto a delayed flight going to an airport 120 miles from my destination and drive the rest of the way. Traded F/C for center seat.  The things we do for our clients! ;-)',\n",
       " '#datomic is a functional database that I’ve used before. I have a feeling that this application could plumb some of its depths. I’m looking forward to the experiments.',\n",
       " 'I’m deeply into the final case study now. This one is going to be very interesting.',\n",
       " 'The US national debt is ~$32 000 000 000 000. The US population is ~332 000 000. That’s ~$96 000 for every man woman and child in the country.  And this doesn’t count the much greater unfunded liabilities. And nobody cares.  But the Piper _will_ be paid.',\n",
       " 'Finished Abstract Factory added a bunch to Visitor and closed out the Design Patterns section. Now on to the Case Study.',\n",
       " 'Do I use UML? Sure sometimes.  Do carpenters use hammers? Carpenters nowadays have nail guns; but sometimes only a hammer will do.',\n",
       " 'Working on Abstract Factory today.',\n",
       " '...and Visitor and Singleton. A great first day of 2023!']"
      ]
     },
     "execution_count": 39,
     "metadata": {},
     "output_type": "execute_result"
    }
   ],
   "source": [
    "documents = session.query(Tweet).filter_by(exec_id=\"46abe110-933a-11ed-b21f-96c090691d1b\").all()\n",
    "documents_text = list(map(lambda x: translate_text(x.text), documents))\n",
    "documents_text[:10]"
   ]
  },
  {
   "cell_type": "code",
   "execution_count": 40,
   "id": "1738df68",
   "metadata": {
    "scrolled": true
   },
   "outputs": [
    {
     "data": {
      "text/html": [
       "<div>\n",
       "<style scoped>\n",
       "    .dataframe tbody tr th:only-of-type {\n",
       "        vertical-align: middle;\n",
       "    }\n",
       "\n",
       "    .dataframe tbody tr th {\n",
       "        vertical-align: top;\n",
       "    }\n",
       "\n",
       "    .dataframe thead th {\n",
       "        text-align: right;\n",
       "    }\n",
       "</style>\n",
       "<table border=\"1\" class=\"dataframe\">\n",
       "  <thead>\n",
       "    <tr style=\"text-align: right;\">\n",
       "      <th></th>\n",
       "      <th>text</th>\n",
       "    </tr>\n",
       "  </thead>\n",
       "  <tbody>\n",
       "    <tr>\n",
       "      <th>0</th>\n",
       "      <td>Ah sushi!</td>\n",
       "    </tr>\n",
       "    <tr>\n",
       "      <th>1</th>\n",
       "      <td>Talking to a big group today. Professionalism ...</td>\n",
       "    </tr>\n",
       "    <tr>\n",
       "      <th>2</th>\n",
       "      <td>The NOTAM corruption nearly caused me to scrub...</td>\n",
       "    </tr>\n",
       "    <tr>\n",
       "      <th>3</th>\n",
       "      <td>#datomic is a functional database that I’ve us...</td>\n",
       "    </tr>\n",
       "    <tr>\n",
       "      <th>4</th>\n",
       "      <td>I’m deeply into the final case study now. This...</td>\n",
       "    </tr>\n",
       "    <tr>\n",
       "      <th>...</th>\n",
       "      <td>...</td>\n",
       "    </tr>\n",
       "    <tr>\n",
       "      <th>95</th>\n",
       "      <td>Good morning!</td>\n",
       "    </tr>\n",
       "    <tr>\n",
       "      <th>96</th>\n",
       "      <td>Turn down the lights. Pour a nice glass of win...</td>\n",
       "    </tr>\n",
       "    <tr>\n",
       "      <th>97</th>\n",
       "      <td>From my point of view the more social networks...</td>\n",
       "    </tr>\n",
       "    <tr>\n",
       "      <th>98</th>\n",
       "      <td>The dream of a graphical programming language ...</td>\n",
       "    </tr>\n",
       "    <tr>\n",
       "      <th>99</th>\n",
       "      <td>Don’t learn design patterns from a framework. ...</td>\n",
       "    </tr>\n",
       "  </tbody>\n",
       "</table>\n",
       "<p>100 rows × 1 columns</p>\n",
       "</div>"
      ],
      "text/plain": [
       "                                                 text\n",
       "0                                           Ah sushi!\n",
       "1   Talking to a big group today. Professionalism ...\n",
       "2   The NOTAM corruption nearly caused me to scrub...\n",
       "3   #datomic is a functional database that I’ve us...\n",
       "4   I’m deeply into the final case study now. This...\n",
       "..                                                ...\n",
       "95                                      Good morning!\n",
       "96  Turn down the lights. Pour a nice glass of win...\n",
       "97  From my point of view the more social networks...\n",
       "98  The dream of a graphical programming language ...\n",
       "99  Don’t learn design patterns from a framework. ...\n",
       "\n",
       "[100 rows x 1 columns]"
      ]
     },
     "execution_count": 40,
     "metadata": {},
     "output_type": "execute_result"
    }
   ],
   "source": [
    "df = pd.DataFrame(documents_text, columns =['text'])\n",
    "df"
   ]
  },
  {
   "cell_type": "markdown",
   "id": "1ce6ef43",
   "metadata": {},
   "source": [
    "Get BERT Embedings"
   ]
  },
  {
   "cell_type": "code",
   "execution_count": 41,
   "id": "cddcf063",
   "metadata": {
    "scrolled": false
   },
   "outputs": [
    {
     "name": "stderr",
     "output_type": "stream",
     "text": [
      "Some weights of the model checkpoint at bert-base-uncased were not used when initializing BertModel: ['cls.predictions.decoder.weight', 'cls.seq_relationship.bias', 'cls.predictions.transform.LayerNorm.weight', 'cls.seq_relationship.weight', 'cls.predictions.transform.dense.weight', 'cls.predictions.transform.LayerNorm.bias', 'cls.predictions.bias', 'cls.predictions.transform.dense.bias']\n",
      "- This IS expected if you are initializing BertModel from the checkpoint of a model trained on another task or with another architecture (e.g. initializing a BertForSequenceClassification model from a BertForPreTraining model).\n",
      "- This IS NOT expected if you are initializing BertModel from the checkpoint of a model that you expect to be exactly identical (initializing a BertForSequenceClassification model from a BertForSequenceClassification model).\n"
     ]
    }
   ],
   "source": [
    "tokenizer = BertTokenizer.from_pretrained(\"bert-base-uncased\")\n",
    "model = BertModel.from_pretrained(\"bert-base-uncased\")"
   ]
  },
  {
   "cell_type": "code",
   "execution_count": 42,
   "id": "935b3622",
   "metadata": {},
   "outputs": [],
   "source": [
    "def get_embeddinngs(text):\n",
    "    inputs = tokenizer(text, return_tensors=\"pt\")\n",
    "    return model(**inputs).pooler_output.tolist()\n",
    "\n",
    "def flat_map(f, xs):\n",
    "    ys = []\n",
    "    for x in xs:\n",
    "        ys.extend(f(x))\n",
    "    return ys"
   ]
  },
  {
   "cell_type": "code",
   "execution_count": 43,
   "id": "338f4b75",
   "metadata": {
    "scrolled": true
   },
   "outputs": [
    {
     "data": {
      "text/html": [
       "<div>\n",
       "<style scoped>\n",
       "    .dataframe tbody tr th:only-of-type {\n",
       "        vertical-align: middle;\n",
       "    }\n",
       "\n",
       "    .dataframe tbody tr th {\n",
       "        vertical-align: top;\n",
       "    }\n",
       "\n",
       "    .dataframe thead th {\n",
       "        text-align: right;\n",
       "    }\n",
       "</style>\n",
       "<table border=\"1\" class=\"dataframe\">\n",
       "  <thead>\n",
       "    <tr style=\"text-align: right;\">\n",
       "      <th></th>\n",
       "      <th>text</th>\n",
       "      <th>emb</th>\n",
       "    </tr>\n",
       "  </thead>\n",
       "  <tbody>\n",
       "    <tr>\n",
       "      <th>0</th>\n",
       "      <td>Ah sushi!</td>\n",
       "      <td>[[-0.8653967380523682, -0.31181463599205017, -...</td>\n",
       "    </tr>\n",
       "    <tr>\n",
       "      <th>1</th>\n",
       "      <td>Talking to a big group today. Professionalism ...</td>\n",
       "      <td>[[-0.8087637424468994, -0.28971341252326965, -...</td>\n",
       "    </tr>\n",
       "    <tr>\n",
       "      <th>2</th>\n",
       "      <td>The NOTAM corruption nearly caused me to scrub...</td>\n",
       "      <td>[[-0.6886597871780396, -0.37573152780532837, -...</td>\n",
       "    </tr>\n",
       "    <tr>\n",
       "      <th>3</th>\n",
       "      <td>#datomic is a functional database that I’ve us...</td>\n",
       "      <td>[[-0.842597484588623, -0.40513572096824646, -0...</td>\n",
       "    </tr>\n",
       "    <tr>\n",
       "      <th>4</th>\n",
       "      <td>I’m deeply into the final case study now. This...</td>\n",
       "      <td>[[-0.8636285662651062, -0.38201189041137695, -...</td>\n",
       "    </tr>\n",
       "    <tr>\n",
       "      <th>...</th>\n",
       "      <td>...</td>\n",
       "      <td>...</td>\n",
       "    </tr>\n",
       "    <tr>\n",
       "      <th>95</th>\n",
       "      <td>Good morning!</td>\n",
       "      <td>[[-0.82135009765625, -0.21561743319034576, 0.0...</td>\n",
       "    </tr>\n",
       "    <tr>\n",
       "      <th>96</th>\n",
       "      <td>Turn down the lights. Pour a nice glass of win...</td>\n",
       "      <td>[[-0.8620830178260803, -0.19205379486083984, -...</td>\n",
       "    </tr>\n",
       "    <tr>\n",
       "      <th>97</th>\n",
       "      <td>From my point of view the more social networks...</td>\n",
       "      <td>[[-0.8946113586425781, -0.5404593348503113, -0...</td>\n",
       "    </tr>\n",
       "    <tr>\n",
       "      <th>98</th>\n",
       "      <td>The dream of a graphical programming language ...</td>\n",
       "      <td>[[-0.856700599193573, -0.5784740447998047, -0....</td>\n",
       "    </tr>\n",
       "    <tr>\n",
       "      <th>99</th>\n",
       "      <td>Don’t learn design patterns from a framework. ...</td>\n",
       "      <td>[[-0.807787299156189, -0.5095397233963013, -0....</td>\n",
       "    </tr>\n",
       "  </tbody>\n",
       "</table>\n",
       "<p>100 rows × 2 columns</p>\n",
       "</div>"
      ],
      "text/plain": [
       "                                                 text  \\\n",
       "0                                           Ah sushi!   \n",
       "1   Talking to a big group today. Professionalism ...   \n",
       "2   The NOTAM corruption nearly caused me to scrub...   \n",
       "3   #datomic is a functional database that I’ve us...   \n",
       "4   I’m deeply into the final case study now. This...   \n",
       "..                                                ...   \n",
       "95                                      Good morning!   \n",
       "96  Turn down the lights. Pour a nice glass of win...   \n",
       "97  From my point of view the more social networks...   \n",
       "98  The dream of a graphical programming language ...   \n",
       "99  Don’t learn design patterns from a framework. ...   \n",
       "\n",
       "                                                  emb  \n",
       "0   [[-0.8653967380523682, -0.31181463599205017, -...  \n",
       "1   [[-0.8087637424468994, -0.28971341252326965, -...  \n",
       "2   [[-0.6886597871780396, -0.37573152780532837, -...  \n",
       "3   [[-0.842597484588623, -0.40513572096824646, -0...  \n",
       "4   [[-0.8636285662651062, -0.38201189041137695, -...  \n",
       "..                                                ...  \n",
       "95  [[-0.82135009765625, -0.21561743319034576, 0.0...  \n",
       "96  [[-0.8620830178260803, -0.19205379486083984, -...  \n",
       "97  [[-0.8946113586425781, -0.5404593348503113, -0...  \n",
       "98  [[-0.856700599193573, -0.5784740447998047, -0....  \n",
       "99  [[-0.807787299156189, -0.5095397233963013, -0....  \n",
       "\n",
       "[100 rows x 2 columns]"
      ]
     },
     "execution_count": 43,
     "metadata": {},
     "output_type": "execute_result"
    }
   ],
   "source": [
    "df['emb'] = df['text'].apply(get_embeddinngs)\n",
    "df"
   ]
  },
  {
   "cell_type": "markdown",
   "id": "4bc2cd77",
   "metadata": {},
   "source": [
    "Reduce Dimensionality"
   ]
  },
  {
   "cell_type": "code",
   "execution_count": 44,
   "id": "1fdf7faf",
   "metadata": {
    "scrolled": true
   },
   "outputs": [],
   "source": [
    "embeddings = list(map(lambda x: x[0], df['emb']))"
   ]
  },
  {
   "cell_type": "code",
   "execution_count": 45,
   "id": "3f8c3788",
   "metadata": {},
   "outputs": [
    {
     "data": {
      "text/plain": [
       "768"
      ]
     },
     "execution_count": 45,
     "metadata": {},
     "output_type": "execute_result"
    }
   ],
   "source": [
    "len(embeddings[0])"
   ]
  },
  {
   "cell_type": "code",
   "execution_count": 46,
   "id": "395b0b48",
   "metadata": {
    "scrolled": false
   },
   "outputs": [],
   "source": [
    "umap_embeddings = umap.UMAP(metric='cosine').fit_transform(embeddings)"
   ]
  },
  {
   "cell_type": "markdown",
   "id": "60a508ad",
   "metadata": {},
   "source": [
    "Let's try to finetune epsilon parameter of DBSCAN"
   ]
  },
  {
   "cell_type": "code",
   "execution_count": 47,
   "id": "af5dd4be",
   "metadata": {},
   "outputs": [
    {
     "data": {
      "image/png": "[encoded data removed]",
      "text/plain": [
       "<Figure size 640x480 with 1 Axes>"
      ]
     },
     "metadata": {},
     "output_type": "display_data"
    }
   ],
   "source": [
    "def plot_neighbour_distance(umap_embeddings):\n",
    "    neigh = NearestNeighbors(n_neighbors=4)\n",
    "    nbrs = neigh.fit(umap_embeddings)\n",
    "    distances, indices = nbrs.kneighbors(umap_embeddings)\n",
    "    distances = np.sort(distances, axis=0)\n",
    "    distances = distances[:,1]\n",
    "    plt.plot(distances)\n",
    "\n",
    "plot_neighbour_distance(umap_embeddings)"
   ]
  },
  {
   "cell_type": "markdown",
   "id": "3594314d",
   "metadata": {},
   "source": [
    "As we have 2dimensional data (Vectors) we will set the minimum cluster size fixed to 4 as it is mentioned in the Presentation paper of DBSCAN: \n",
    "\n",
    "\"DBSCAN needs two parameters, Eps and MinPts. However, our experiments indicate that the k-dist graphs for k > 4\n",
    "do not significantly differ from the 4-dist graph and, furthermore, they need considerably more computation. Therefore,\n",
    "we eliminate the parameter MinPts by setting it to 4 for all\n",
    "databases (for 2-dimensional data).\"\n",
    "\n",
    "The optimal value for epsilon will be found at the point of maximum curvature. This means arround 0.4"
   ]
  },
  {
   "cell_type": "markdown",
   "id": "e72269ff",
   "metadata": {},
   "source": [
    "Let's create the clusters! We will use DB scan as we don't know the number of clusters found in the data"
   ]
  },
  {
   "cell_type": "code",
   "execution_count": 48,
   "id": "6d6d2e5a",
   "metadata": {},
   "outputs": [],
   "source": [
    "db = DBSCAN(eps=0.35, metric = 'euclidean', min_samples=4).fit(umap_embeddings)\n",
    "labels = db.labels_"
   ]
  },
  {
   "cell_type": "code",
   "execution_count": 49,
   "id": "e1be23cf",
   "metadata": {},
   "outputs": [],
   "source": [
    "n_clusters_ = len(set(labels)) - (1 if -1 in labels else 0)\n",
    "n_noise_ = list(labels).count(-1)"
   ]
  },
  {
   "cell_type": "code",
   "execution_count": 50,
   "id": "0ba729dd",
   "metadata": {},
   "outputs": [
    {
     "name": "stdout",
     "output_type": "stream",
     "text": [
      "Estimated number of clusters: 8\n",
      "Estimated number of noise points: 60\n"
     ]
    }
   ],
   "source": [
    "print(\"Estimated number of clusters: %d\" % n_clusters_)\n",
    "print(\"Estimated number of noise points: %d\" % n_noise_)"
   ]
  },
  {
   "cell_type": "code",
   "execution_count": 51,
   "id": "e6f6f8e2",
   "metadata": {},
   "outputs": [
    {
     "data": {
      "image/png": "[encoded data removed]",
      "text/plain": [
       "<Figure size 640x480 with 1 Axes>"
      ]
     },
     "metadata": {},
     "output_type": "display_data"
    }
   ],
   "source": [
    "def plot_clusters(labels, n_clusters_, db):\n",
    "    unique_labels = set(labels)\n",
    "    core_samples_mask = np.zeros_like(labels, dtype=bool)\n",
    "    core_samples_mask[db.core_sample_indices_] = True\n",
    "\n",
    "    colors = [plt.cm.Spectral(each) for each in np.linspace(0, 1, len(unique_labels))]\n",
    "    for k, col in zip(unique_labels, colors):\n",
    "        if k == -1:\n",
    "            # Black used for noise.\n",
    "            col = [0, 0, 0, 1]\n",
    "\n",
    "        class_member_mask = labels == k\n",
    "\n",
    "        xy = umap_embeddings[class_member_mask & core_samples_mask]\n",
    "        plt.plot(\n",
    "            xy[:, 0],\n",
    "            xy[:, 1],\n",
    "            \"o\",\n",
    "            markerfacecolor=tuple(col),\n",
    "            markeredgecolor=\"k\",\n",
    "            markersize=14,\n",
    "        )\n",
    "\n",
    "        xy = umap_embeddings[class_member_mask & ~core_samples_mask]\n",
    "        plt.plot(\n",
    "            xy[:, 0],\n",
    "            xy[:, 1],\n",
    "            \"o\",\n",
    "            markerfacecolor=tuple(col),\n",
    "            markeredgecolor=\"k\",\n",
    "            markersize=6,\n",
    "        )\n",
    "\n",
    "    plt.title(f\"Estimated number of clusters: {n_clusters_}\")\n",
    "    plt.show()\n",
    "    \n",
    "plot_clusters(labels, n_clusters_, db)"
   ]
  },
  {
   "cell_type": "code",
   "execution_count": 52,
   "id": "590fe9e1",
   "metadata": {
    "scrolled": true
   },
   "outputs": [
    {
     "data": {
      "text/plain": [
       "array([-1, -1,  0,  6, -1, -1, -1, -1, -1,  4, -1, -1, -1,  0, -1, -1, -1,\n",
       "       -1,  4, -1, -1,  4, -1, -1, -1, -1, -1,  1,  2, -1, -1, -1, -1, -1,\n",
       "       -1,  3, -1, -1,  2,  5, -1,  7,  4, -1, -1,  3, -1, -1,  5, -1, -1,\n",
       "       -1, -1, -1, -1,  0, -1,  3,  0, -1,  0,  6, -1,  1,  2,  2, -1,  3,\n",
       "        3,  3,  5,  7,  5,  5,  3,  7, -1,  5, -1, -1, -1, -1,  5, -1, -1,\n",
       "        1,  7, -1, -1, -1, -1, -1,  1, -1,  6, -1,  6, -1,  3, -1])"
      ]
     },
     "execution_count": 52,
     "metadata": {},
     "output_type": "execute_result"
    }
   ],
   "source": [
    "labels"
   ]
  },
  {
   "cell_type": "code",
   "execution_count": 53,
   "id": "041eaad3",
   "metadata": {
    "scrolled": false
   },
   "outputs": [
    {
     "data": {
      "text/html": [
       "<div>\n",
       "<style scoped>\n",
       "    .dataframe tbody tr th:only-of-type {\n",
       "        vertical-align: middle;\n",
       "    }\n",
       "\n",
       "    .dataframe tbody tr th {\n",
       "        vertical-align: top;\n",
       "    }\n",
       "\n",
       "    .dataframe thead th {\n",
       "        text-align: right;\n",
       "    }\n",
       "</style>\n",
       "<table border=\"1\" class=\"dataframe\">\n",
       "  <thead>\n",
       "    <tr style=\"text-align: right;\">\n",
       "      <th></th>\n",
       "      <th>text</th>\n",
       "      <th>emb</th>\n",
       "      <th>cluster</th>\n",
       "    </tr>\n",
       "  </thead>\n",
       "  <tbody>\n",
       "    <tr>\n",
       "      <th>0</th>\n",
       "      <td>Ah sushi!</td>\n",
       "      <td>[[-0.8653967380523682, -0.31181463599205017, -...</td>\n",
       "      <td>-1</td>\n",
       "    </tr>\n",
       "    <tr>\n",
       "      <th>1</th>\n",
       "      <td>Talking to a big group today. Professionalism ...</td>\n",
       "      <td>[[-0.8087637424468994, -0.28971341252326965, -...</td>\n",
       "      <td>-1</td>\n",
       "    </tr>\n",
       "    <tr>\n",
       "      <th>2</th>\n",
       "      <td>The NOTAM corruption nearly caused me to scrub...</td>\n",
       "      <td>[[-0.6886597871780396, -0.37573152780532837, -...</td>\n",
       "      <td>0</td>\n",
       "    </tr>\n",
       "    <tr>\n",
       "      <th>3</th>\n",
       "      <td>#datomic is a functional database that I’ve us...</td>\n",
       "      <td>[[-0.842597484588623, -0.40513572096824646, -0...</td>\n",
       "      <td>6</td>\n",
       "    </tr>\n",
       "    <tr>\n",
       "      <th>4</th>\n",
       "      <td>I’m deeply into the final case study now. This...</td>\n",
       "      <td>[[-0.8636285662651062, -0.38201189041137695, -...</td>\n",
       "      <td>-1</td>\n",
       "    </tr>\n",
       "    <tr>\n",
       "      <th>...</th>\n",
       "      <td>...</td>\n",
       "      <td>...</td>\n",
       "      <td>...</td>\n",
       "    </tr>\n",
       "    <tr>\n",
       "      <th>95</th>\n",
       "      <td>Good morning!</td>\n",
       "      <td>[[-0.82135009765625, -0.21561743319034576, 0.0...</td>\n",
       "      <td>-1</td>\n",
       "    </tr>\n",
       "    <tr>\n",
       "      <th>96</th>\n",
       "      <td>Turn down the lights. Pour a nice glass of win...</td>\n",
       "      <td>[[-0.8620830178260803, -0.19205379486083984, -...</td>\n",
       "      <td>6</td>\n",
       "    </tr>\n",
       "    <tr>\n",
       "      <th>97</th>\n",
       "      <td>From my point of view the more social networks...</td>\n",
       "      <td>[[-0.8946113586425781, -0.5404593348503113, -0...</td>\n",
       "      <td>-1</td>\n",
       "    </tr>\n",
       "    <tr>\n",
       "      <th>98</th>\n",
       "      <td>The dream of a graphical programming language ...</td>\n",
       "      <td>[[-0.856700599193573, -0.5784740447998047, -0....</td>\n",
       "      <td>3</td>\n",
       "    </tr>\n",
       "    <tr>\n",
       "      <th>99</th>\n",
       "      <td>Don’t learn design patterns from a framework. ...</td>\n",
       "      <td>[[-0.807787299156189, -0.5095397233963013, -0....</td>\n",
       "      <td>-1</td>\n",
       "    </tr>\n",
       "  </tbody>\n",
       "</table>\n",
       "<p>100 rows × 3 columns</p>\n",
       "</div>"
      ],
      "text/plain": [
       "                                                 text  \\\n",
       "0                                           Ah sushi!   \n",
       "1   Talking to a big group today. Professionalism ...   \n",
       "2   The NOTAM corruption nearly caused me to scrub...   \n",
       "3   #datomic is a functional database that I’ve us...   \n",
       "4   I’m deeply into the final case study now. This...   \n",
       "..                                                ...   \n",
       "95                                      Good morning!   \n",
       "96  Turn down the lights. Pour a nice glass of win...   \n",
       "97  From my point of view the more social networks...   \n",
       "98  The dream of a graphical programming language ...   \n",
       "99  Don’t learn design patterns from a framework. ...   \n",
       "\n",
       "                                                  emb  cluster  \n",
       "0   [[-0.8653967380523682, -0.31181463599205017, -...       -1  \n",
       "1   [[-0.8087637424468994, -0.28971341252326965, -...       -1  \n",
       "2   [[-0.6886597871780396, -0.37573152780532837, -...        0  \n",
       "3   [[-0.842597484588623, -0.40513572096824646, -0...        6  \n",
       "4   [[-0.8636285662651062, -0.38201189041137695, -...       -1  \n",
       "..                                                ...      ...  \n",
       "95  [[-0.82135009765625, -0.21561743319034576, 0.0...       -1  \n",
       "96  [[-0.8620830178260803, -0.19205379486083984, -...        6  \n",
       "97  [[-0.8946113586425781, -0.5404593348503113, -0...       -1  \n",
       "98  [[-0.856700599193573, -0.5784740447998047, -0....        3  \n",
       "99  [[-0.807787299156189, -0.5095397233963013, -0....       -1  \n",
       "\n",
       "[100 rows x 3 columns]"
      ]
     },
     "execution_count": 53,
     "metadata": {},
     "output_type": "execute_result"
    }
   ],
   "source": [
    "df['cluster'] = labels\n",
    "df"
   ]
  },
  {
   "cell_type": "code",
   "execution_count": 71,
   "id": "c23121d3",
   "metadata": {},
   "outputs": [
    {
     "data": {
      "text/plain": [
       "['Do I use UML? Sure sometimes.  Do carpenters use hammers? Carpenters nowadays have nail guns; but sometimes only a hammer will do.',\n",
       " 'CH4 is a very efficient GHG. It traps 30X more heat than CO2. During the pandemic atmospheric CH4 increased significantly because we decreased the usage of fossil fuels which release the hydroxyls that degrade CH4.  TANSTAAFL',\n",
       " 'One of the more common mistakes that programmers make when implementing cellular automata is to actually create a grid of cells in computer memory.',\n",
       " 'That ability to communicate intent is the whole reason that design patterns are useful. The patterns themselves are not new nor even very interesting; but the ability to name them is a huge advantage.',\n",
       " 'Do some languages have features that obviate certain design patterns? Not in my experience. Rather there are some language features that facilitate certain patterns.  As a simple example consider the Strategy pattern.  ']"
      ]
     },
     "execution_count": 71,
     "metadata": {},
     "output_type": "execute_result"
    }
   ],
   "source": [
    "list(df[df['cluster'] == 2]['text'])"
   ]
  },
  {
   "cell_type": "markdown",
   "id": "1bdb294a",
   "metadata": {},
   "source": [
    "## Let's try with a more specific Bert Model: BerTweet"
   ]
  },
  {
   "cell_type": "code",
   "execution_count": 55,
   "id": "218afde3",
   "metadata": {},
   "outputs": [
    {
     "name": "stderr",
     "output_type": "stream",
     "text": [
      "Some weights of the model checkpoint at vinai/bertweet-base were not used when initializing RobertaModel: ['lm_head.dense.weight', 'lm_head.layer_norm.bias', 'lm_head.decoder.bias', 'lm_head.dense.bias', 'lm_head.decoder.weight', 'lm_head.bias', 'lm_head.layer_norm.weight']\n",
      "- This IS expected if you are initializing RobertaModel from the checkpoint of a model trained on another task or with another architecture (e.g. initializing a BertForSequenceClassification model from a BertForPreTraining model).\n",
      "- This IS NOT expected if you are initializing RobertaModel from the checkpoint of a model that you expect to be exactly identical (initializing a BertForSequenceClassification model from a BertForSequenceClassification model).\n",
      "emoji is not installed, thus not converting emoticons or emojis into text. Install emoji: pip3 install emoji==0.6.0\n",
      "Special tokens have been added in the vocabulary, make sure the associated word embeddings are fine-tuned or trained.\n"
     ]
    }
   ],
   "source": [
    "bertweet = AutoModel.from_pretrained(\"vinai/bertweet-base\")\n",
    "tokenizer = AutoTokenizer.from_pretrained(\"vinai/bertweet-base\", use_fast=False)"
   ]
  },
  {
   "cell_type": "code",
   "execution_count": 56,
   "id": "c124487e",
   "metadata": {
    "scrolled": false
   },
   "outputs": [],
   "source": [
    "tensors = [torch.tensor([tokenizer.encode(tweet)]) for tweet in documents_text]\n",
    "features = []\n",
    "with torch.no_grad():\n",
    "    for tensor in tensors:\n",
    "        features.append(bertweet(tensor).pooler_output.tolist())\n",
    "features = list(map(lambda x: x[0], features))"
   ]
  },
  {
   "cell_type": "code",
   "execution_count": 57,
   "id": "97df4b24",
   "metadata": {},
   "outputs": [
    {
     "data": {
      "image/png": "[encoded data removed]",
      "text/plain": [
       "<Figure size 640x480 with 1 Axes>"
      ]
     },
     "metadata": {},
     "output_type": "display_data"
    }
   ],
   "source": [
    "umap_embeddings = umap.UMAP(metric='cosine').fit_transform(features)\n",
    "plot_neighbour_distance(umap_embeddings)"
   ]
  },
  {
   "cell_type": "code",
   "execution_count": 58,
   "id": "f0278907",
   "metadata": {},
   "outputs": [],
   "source": [
    "db = DBSCAN(eps=0.35, metric = 'euclidean', min_samples=4).fit(umap_embeddings)\n",
    "labels = db.labels_"
   ]
  },
  {
   "cell_type": "code",
   "execution_count": 59,
   "id": "73ed9cf6",
   "metadata": {},
   "outputs": [
    {
     "name": "stdout",
     "output_type": "stream",
     "text": [
      "Estimated number of clusters: 6\n",
      "Estimated number of noise points: 45\n"
     ]
    }
   ],
   "source": [
    "n_clusters_ = len(set(labels)) - (1 if -1 in labels else 0)\n",
    "n_noise_ = list(labels).count(-1)\n",
    "print(\"Estimated number of clusters: %d\" % n_clusters_)\n",
    "print(\"Estimated number of noise points: %d\" % n_noise_)"
   ]
  },
  {
   "cell_type": "code",
   "execution_count": 60,
   "id": "4c6d94ad",
   "metadata": {
    "scrolled": true
   },
   "outputs": [
    {
     "data": {
      "image/png": "[encoded data removed]",
      "text/plain": [
       "<Figure size 640x480 with 1 Axes>"
      ]
     },
     "metadata": {},
     "output_type": "display_data"
    }
   ],
   "source": [
    "plot_clusters(labels, n_clusters_, db)"
   ]
  },
  {
   "cell_type": "code",
   "execution_count": 61,
   "id": "090b3fe0",
   "metadata": {
    "scrolled": true
   },
   "outputs": [
    {
     "data": {
      "text/html": [
       "<div>\n",
       "<style scoped>\n",
       "    .dataframe tbody tr th:only-of-type {\n",
       "        vertical-align: middle;\n",
       "    }\n",
       "\n",
       "    .dataframe tbody tr th {\n",
       "        vertical-align: top;\n",
       "    }\n",
       "\n",
       "    .dataframe thead th {\n",
       "        text-align: right;\n",
       "    }\n",
       "</style>\n",
       "<table border=\"1\" class=\"dataframe\">\n",
       "  <thead>\n",
       "    <tr style=\"text-align: right;\">\n",
       "      <th></th>\n",
       "      <th>text</th>\n",
       "      <th>emb</th>\n",
       "      <th>cluster</th>\n",
       "    </tr>\n",
       "  </thead>\n",
       "  <tbody>\n",
       "    <tr>\n",
       "      <th>0</th>\n",
       "      <td>Ah sushi!</td>\n",
       "      <td>[[-0.8653967380523682, -0.31181463599205017, -...</td>\n",
       "      <td>-1</td>\n",
       "    </tr>\n",
       "    <tr>\n",
       "      <th>1</th>\n",
       "      <td>Talking to a big group today. Professionalism ...</td>\n",
       "      <td>[[-0.8087637424468994, -0.28971341252326965, -...</td>\n",
       "      <td>1</td>\n",
       "    </tr>\n",
       "    <tr>\n",
       "      <th>2</th>\n",
       "      <td>The NOTAM corruption nearly caused me to scrub...</td>\n",
       "      <td>[[-0.6886597871780396, -0.37573152780532837, -...</td>\n",
       "      <td>0</td>\n",
       "    </tr>\n",
       "    <tr>\n",
       "      <th>3</th>\n",
       "      <td>#datomic is a functional database that I’ve us...</td>\n",
       "      <td>[[-0.842597484588623, -0.40513572096824646, -0...</td>\n",
       "      <td>1</td>\n",
       "    </tr>\n",
       "    <tr>\n",
       "      <th>4</th>\n",
       "      <td>I’m deeply into the final case study now. This...</td>\n",
       "      <td>[[-0.8636285662651062, -0.38201189041137695, -...</td>\n",
       "      <td>-1</td>\n",
       "    </tr>\n",
       "    <tr>\n",
       "      <th>...</th>\n",
       "      <td>...</td>\n",
       "      <td>...</td>\n",
       "      <td>...</td>\n",
       "    </tr>\n",
       "    <tr>\n",
       "      <th>95</th>\n",
       "      <td>Good morning!</td>\n",
       "      <td>[[-0.82135009765625, -0.21561743319034576, 0.0...</td>\n",
       "      <td>0</td>\n",
       "    </tr>\n",
       "    <tr>\n",
       "      <th>96</th>\n",
       "      <td>Turn down the lights. Pour a nice glass of win...</td>\n",
       "      <td>[[-0.8620830178260803, -0.19205379486083984, -...</td>\n",
       "      <td>-1</td>\n",
       "    </tr>\n",
       "    <tr>\n",
       "      <th>97</th>\n",
       "      <td>From my point of view the more social networks...</td>\n",
       "      <td>[[-0.8946113586425781, -0.5404593348503113, -0...</td>\n",
       "      <td>3</td>\n",
       "    </tr>\n",
       "    <tr>\n",
       "      <th>98</th>\n",
       "      <td>The dream of a graphical programming language ...</td>\n",
       "      <td>[[-0.856700599193573, -0.5784740447998047, -0....</td>\n",
       "      <td>5</td>\n",
       "    </tr>\n",
       "    <tr>\n",
       "      <th>99</th>\n",
       "      <td>Don’t learn design patterns from a framework. ...</td>\n",
       "      <td>[[-0.807787299156189, -0.5095397233963013, -0....</td>\n",
       "      <td>-1</td>\n",
       "    </tr>\n",
       "  </tbody>\n",
       "</table>\n",
       "<p>100 rows × 3 columns</p>\n",
       "</div>"
      ],
      "text/plain": [
       "                                                 text  \\\n",
       "0                                           Ah sushi!   \n",
       "1   Talking to a big group today. Professionalism ...   \n",
       "2   The NOTAM corruption nearly caused me to scrub...   \n",
       "3   #datomic is a functional database that I’ve us...   \n",
       "4   I’m deeply into the final case study now. This...   \n",
       "..                                                ...   \n",
       "95                                      Good morning!   \n",
       "96  Turn down the lights. Pour a nice glass of win...   \n",
       "97  From my point of view the more social networks...   \n",
       "98  The dream of a graphical programming language ...   \n",
       "99  Don’t learn design patterns from a framework. ...   \n",
       "\n",
       "                                                  emb  cluster  \n",
       "0   [[-0.8653967380523682, -0.31181463599205017, -...       -1  \n",
       "1   [[-0.8087637424468994, -0.28971341252326965, -...        1  \n",
       "2   [[-0.6886597871780396, -0.37573152780532837, -...        0  \n",
       "3   [[-0.842597484588623, -0.40513572096824646, -0...        1  \n",
       "4   [[-0.8636285662651062, -0.38201189041137695, -...       -1  \n",
       "..                                                ...      ...  \n",
       "95  [[-0.82135009765625, -0.21561743319034576, 0.0...        0  \n",
       "96  [[-0.8620830178260803, -0.19205379486083984, -...       -1  \n",
       "97  [[-0.8946113586425781, -0.5404593348503113, -0...        3  \n",
       "98  [[-0.856700599193573, -0.5784740447998047, -0....        5  \n",
       "99  [[-0.807787299156189, -0.5095397233963013, -0....       -1  \n",
       "\n",
       "[100 rows x 3 columns]"
      ]
     },
     "execution_count": 61,
     "metadata": {},
     "output_type": "execute_result"
    }
   ],
   "source": [
    "df2 = df\n",
    "df2['cluster'] = labels\n",
    "df2"
   ]
  },
  {
   "cell_type": "code",
   "execution_count": 68,
   "id": "93e9f2a5",
   "metadata": {},
   "outputs": [
    {
     "data": {
      "text/plain": [
       "['New requirement. Anyone writing definitions for a dictionary must complete the #AdventOfCode every year to prove that they still have a functioning brain.',\n",
       " 'Day 12 of #AdventOfCode2022 pretends to be a simple depth first search. I got the test data working; but then had to go to the airport. My ninth grandchild is on the way.  The trick to solving the real problem is likely in finding the right pruning strategies.',\n",
       " 'Some arguments against the position that software has reached a pinnacle.  - Experts predicting pinnacles are often wrong.  - Hardware revolutions like Quantum Neural Hybrid Analog.  - ML might have non-linear growth.  - SkyNet.',\n",
       " 'An argument for the position that software has reached a pinnacle:  Software has been constructed from sequence selection and iteration since it’s inception in 1936.  There have been no major structural paradigms uncovered since 1966.',\n",
       " 'Regardless of the language being used developers can discuss whether or not the Strategy pattern would be an appropriate solution. Or if the word Strategy appears in the code then the readers of that code will know the intent.',\n",
       " 'The author’s primary point is that all the design patterns in the GOF book can be replaced with functional programming techniques like first class functions and function composition.',\n",
       " 'Meanwhile I am writing a book on the pragmatics of functional programming. No monads. No monoids. No category theory. Just code and design principles; and comparative analyses.  Examples in Clojure of course.',\n",
       " 'Statically typed languages have strengths and weaknesses.  Dynamically typed languages have strengths and weaknesses.  Dynamic type specification affords the best of both worlds.  Clojure/spec.',\n",
       " 'The dream of a graphical programming language is an old one. There have been many attempts and almost as many failures. The few successes have been in niches far removed from general purpose programming. Apparently programming is not two dimensional.']"
      ]
     },
     "execution_count": 68,
     "metadata": {},
     "output_type": "execute_result"
    }
   ],
   "source": [
    "list(df2[df2['cluster'] == 5]['text'])"
   ]
  },
  {
   "cell_type": "markdown",
   "id": "0b26ec73",
   "metadata": {},
   "source": [
    "## Goood, I think ot works way better!!"
   ]
  },
  {
   "cell_type": "markdown",
   "id": "37babc6b",
   "metadata": {},
   "source": [
    "We would like to have real labels instead of numbers for each of the topics that have been classified. For doing so, I though on diferent possible euristics: \n",
    "\n",
    "- TF-IDF: to get out the most relevant words for each of the topics.\n",
    "- Keyword Extraction: Keyword extraction tool such as Yake!\n"
   ]
  },
  {
   "cell_type": "markdown",
   "id": "ea03ae45",
   "metadata": {},
   "source": [
    "Let's try Yake."
   ]
  },
  {
   "cell_type": "code",
   "execution_count": 85,
   "id": "edfe835c",
   "metadata": {},
   "outputs": [
    {
     "data": {
      "text/plain": [
       "['Talking to a big group today. Professionalism Architecture Agile and Clean Code. It’s going to be a blast! I love being on stage. It’s a personality defect.',\n",
       " '#datomic is a functional database that I’ve used before. I have a feeling that this application could plumb some of its depths. I’m looking forward to the experiments.',\n",
       " 'I’ve been using Clojure now for over 15 years. I’ve used it for projects big and small. It is a beautiful language. You should try it. ;-)',\n",
       " 'Somebody hooked up ChatGPT to nostr. It’s an absolute hoot. It’s like talking to a lefty brainwashed college student pasting google responses into their phone. Naive. Shallow. But not entirely dumb.']"
      ]
     },
     "execution_count": 85,
     "metadata": {},
     "output_type": "execute_result"
    }
   ],
   "source": [
    "list(df2[df2['cluster'] == 1]['text'])"
   ]
  },
  {
   "cell_type": "code",
   "execution_count": 94,
   "id": "2c9e748c",
   "metadata": {},
   "outputs": [
    {
     "data": {
      "text/plain": [
       "[['Abstract Factory', 'Twitter', 'NOTAM', 'client visit', 'NOTAM corruption'],\n",
       " ['big group',\n",
       "  'Professionalism Architecture',\n",
       "  'Architecture Agile',\n",
       "  'Clean Code',\n",
       "  'group today'],\n",
       " ['design patterns', 'efficient GHG', 'carpenters', 'patterns', 'UML'],\n",
       " ['power', 'control', 'profile', 'control speech', 'speech'],\n",
       " ['Easy peasy', 'Advent', 'Code', 'Day', 'Distress Signal'],\n",
       " ['functional programming',\n",
       "  'Hybrid Analog',\n",
       "  'requirement',\n",
       "  'software',\n",
       "  'programming']]"
      ]
     },
     "execution_count": 94,
     "metadata": {},
     "output_type": "execute_result"
    }
   ],
   "source": [
    "topics = []\n",
    "kw = []\n",
    "for i in range(n_clusters_):\n",
    "    topics.append(\" \".join(list(df2[df2['cluster'] == i]['text'])))\n",
    "topics\n",
    "kw_extractor = yake.KeywordExtractor(n=2, top=5)\n",
    "for topic in topics:\n",
    "    kw.append(list(map(lambda x: x[0], sorted(kw_extractor.extract_keywords(topic), reverse=True, key=lambda y: y[1]))))\n",
    "kw"
   ]
  },
  {
   "cell_type": "markdown",
   "id": "914101da",
   "metadata": {},
   "source": [
    "## BEAUTIFULL!"
   ]
  }
 ],
 "metadata": {
  "kernelspec": {
   "display_name": "Python 3 (ipykernel)",
   "language": "python",
   "name": "python3"
  },
  "language_info": {
   "codemirror_mode": {
    "name": "ipython",
    "version": 3
   },
   "file_extension": ".py",
   "mimetype": "text/x-python",
   "name": "python",
   "nbconvert_exporter": "python",
   "pygments_lexer": "ipython3",
   "version": "3.10.9"
  }
 },
 "nbformat": 4,
 "nbformat_minor": 5
}
